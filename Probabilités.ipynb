{
 "cells": [
  {
   "cell_type": "markdown",
   "metadata": {},
   "source": [
    "# Probabilités\n"
   ]
  },
  {
   "cell_type": "code",
   "execution_count": 31,
   "metadata": {
    "collapsed": false
   },
   "outputs": [
    {
     "name": "stdout",
     "output_type": "stream",
     "text": [
      "Nombre total de tirages : 1 000 000\n",
      "Nombre de tirages contenant le chiffre 1 : 166183\n",
      "Nombre de tirages contenant le chiffre 2 : 166685\n",
      "Nombre de tirages contenant le chiffre 3 : 166596\n",
      "Nombre de tirages contenant le chiffre 4 : 166962\n",
      "Nombre de tirages contenant le chiffre 5 : 166645\n",
      "Nombre de tirages contenant le chiffre 6 : 166929\n"
     ]
    },
    {
     "data": {
      "image/png": "[encoded data removed]",
      "text/plain": [
       "<matplotlib.figure.Figure at 0x11f4b09c208>"
      ]
     },
     "metadata": {},
     "output_type": "display_data"
    }
   ],
   "source": [
    "import numpy as np\n",
    "from matplotlib import pyplot as plt\n",
    "%matplotlib inline\n",
    "\n",
    "nb_tirages = 1000000\n",
    "resultat = np.array([], dtype=int)\n",
    "\n",
    "# On effectue nb_tirages\n",
    "resultat = np.random.random_integers(1,6,nb_tirages)\n",
    "\n",
    "# On regroupe les résultats (on compte les issues qui ont donné 1, puis celle qui ont donné 2... etc)\n",
    "res = np.bincount(resultat)\n",
    "\n",
    "print(\"Nombre total de tirages : {:,}\".format(nb_tirages).replace(',', ' '))\n",
    "for i in range(1,6+1):\n",
    "    print('Nombre de tirages contenant le chiffre {} : {}'.format(i,res[i]))\n",
    "    plt.bar(i, res[i])"
   ]
  },
  {
   "cell_type": "code",
   "execution_count": null,
   "metadata": {
    "collapsed": true
   },
   "outputs": [],
   "source": []
  }
 ],
 "metadata": {
  "kernelspec": {
   "display_name": "Python 3",
   "language": "python",
   "name": "python3"
  },
  "language_info": {
   "codemirror_mode": {
    "name": "ipython",
    "version": 3
   },
   "file_extension": ".py",
   "mimetype": "text/x-python",
   "name": "python",
   "nbconvert_exporter": "python",
   "pygments_lexer": "ipython3",
   "version": "3.5.1"
  }
 },
 "nbformat": 4,
 "nbformat_minor": 0
}
