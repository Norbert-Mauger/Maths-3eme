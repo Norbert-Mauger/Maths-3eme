{
 "cells": [
  {
   "cell_type": "markdown",
   "metadata": {},
   "source": [
    "# Moyenne, Etendue et Médiane\n",
    "\n",
    "Utilisation de PYTHON pour calculer des moyennes et des médianes."
   ]
  },
  {
   "cell_type": "code",
   "execution_count": 1,
   "metadata": {
    "collapsed": false
   },
   "outputs": [
    {
     "name": "stdout",
     "output_type": "stream",
     "text": [
      "Notes : [  7.12  10.66  11.87   8.63   2.4    7.17  15.91  16.63   8.22   8.74\n",
      "   7.61   3.87  13.02  15.42   6.34]\n"
     ]
    }
   ],
   "source": [
    "import numpy as np\n",
    "import matplotlib.pyplot as plt\n",
    "%matplotlib inline\n",
    "np.set_printoptions(precision=2)\n",
    "\n",
    "# Nombre de notes que l'on veut créer\n",
    "nb_notes = 15\n",
    "# Moyenne qu'on souhaite à peu près avoir\n",
    "moyenne_voulue = 12\n",
    "# Ecart entre les notes (plus la valeur est grande, plus elle pourront s'éloigner de la moyenne désirée)\n",
    "ecart_type = 5\n",
    "\n",
    "#np.random.seed(6)\n",
    "notes = np.random.normal(moyenne_voulue, ecart_type, nb_notes)\n",
    "\n",
    "for i in range(len(notes)):\n",
    "    if notes[i]<0:\n",
    "        notes[i] = 0\n",
    "    if notes[i]>20:\n",
    "        notes[i] = 20\n",
    "    notes[i] = np.round(notes[i],2)\n",
    "        \n",
    "print('Notes :', notes)"
   ]
  },
  {
   "cell_type": "markdown",
   "metadata": {},
   "source": [
    "### Moyenne arithmétique\n",
    "\n",
    "$\\displaystyle \\overline{x} = \\frac{1}{n} \\sum_{i=1}^{n}x_{i} $\n"
   ]
  },
  {
   "cell_type": "code",
   "execution_count": 2,
   "metadata": {
    "collapsed": false
   },
   "outputs": [
    {
     "name": "stdout",
     "output_type": "stream",
     "text": [
      "Nombre de notes : 15\n",
      "Total des notes : 143.61\n",
      "Moyenne des notes : 9.574\n",
      "Moyenne calculée par la fonction : 9.574\n"
     ]
    }
   ],
   "source": [
    "nombre_de_notes = len(notes)\n",
    "print('Nombre de notes :', nombre_de_notes)\n",
    "total_des_notes = sum(notes)\n",
    "print('Total des notes :', total_des_notes)\n",
    "moyenne = total_des_notes / nombre_de_notes\n",
    "print('Moyenne des notes :', moyenne)\n",
    "\n",
    "# On peut créer une fonction qui fera tout ce calcul pour nous :\n",
    "def moyenne(ensemble):\n",
    "    taille_ensemble = len(ensemble)\n",
    "    total = sum(ensemble)\n",
    "    return total / taille_ensemble\n",
    "\n",
    "#le résultat est le même :\n",
    "print('Moyenne calculée par la fonction :', moyenne(notes))"
   ]
  },
  {
   "cell_type": "markdown",
   "metadata": {},
   "source": [
    "### Médiane"
   ]
  },
  {
   "cell_type": "code",
   "execution_count": 3,
   "metadata": {
    "collapsed": false
   },
   "outputs": [
    {
     "name": "stdout",
     "output_type": "stream",
     "text": [
      "mediane([1,17,3,22,5]): 5\n",
      "mediane([23,5,123,12,78,22200]) 50.5\n",
      "mediane des notes [  7.12  10.66  11.87   8.63   2.4    7.17  15.91  16.63   8.22   8.74\n",
      "   7.61   3.87  13.02  15.42   6.34] : 8.63\n",
      "Rappel de la moyenne :  9.574\n"
     ]
    }
   ],
   "source": [
    "# Pour la médiane, on crée aussi une fonction pour pouvoir ensuite l'utiliser de nombreuses fois\n",
    "def mediane(ensemble):\n",
    "    ensemble_trie = np.sort(ensemble)\n",
    "    taille_de_l_ensemble = len(ensemble_trie)\n",
    "    \n",
    "    if taille_de_l_ensemble%2 > 0:\n",
    "        # Nombre impair d'éléments, on prend simplement l'élément du milieu, ex : [1,2,4, 6, 10] : on prend 4.\n",
    "        mediane = ensemble_trie[int((taille_de_l_ensemble+1)/2-1)]  # On doit faire -1, car le tableau commence à l'index 0.\n",
    "    else:\n",
    "        # Nombre pair d'éléments, on prend la moyenne des deux valeurs au centre de l'ensemble\n",
    "        # ex : [1,3,4,6,7,9] : (4+6)/2 = 5\n",
    "        valeur_1 = ensemble_trie[int((taille_de_l_ensemble/2) - 1)]\n",
    "        valeur_2 = ensemble_trie[int(taille_de_l_ensemble/2)]\n",
    "        mediane = (valeur_1 + valeur_2)/2\n",
    "    \n",
    "    return mediane\n",
    "\n",
    "print('mediane([1,17,3,22,5]):', mediane([1,17,3,22,5]))\n",
    "print('mediane([23,5,123,12,78,22200])', mediane([23,5,123,12,78,22200]))\n",
    "print('mediane des notes {} : {}'.format(notes, mediane(notes)))\n",
    "print('Rappel de la moyenne : ', moyenne(notes))\n",
    "\n"
   ]
  },
  {
   "cell_type": "markdown",
   "metadata": {},
   "source": [
    "### Différence entre moyenne et médiane\n",
    "Exemple où la moyenne et la médiane sont très différentes :  \n",
    "Un village avec 10 habitants qui travaillent, leur salaire est de 1000€ en moyenne, ils gagnent tous entre 800€ et 1200€  \n",
    "Un autre village avec encore 10 habitants dont le salaire moyen est de 2000€.... et pourtant 9 d'entre eux ne gagnent presque rien"
   ]
  },
  {
   "cell_type": "code",
   "execution_count": 4,
   "metadata": {
    "collapsed": false
   },
   "outputs": [
    {
     "name": "stdout",
     "output_type": "stream",
     "text": [
      "Salaire moyen dans le village 1 : 1000.0\n",
      "Salaire médian dans le village 1 : 1000.0\n",
      "Le village 1 est homogène, ses salaires son égalitaires, car il y a peu d'écart entre les gens\n",
      "\n",
      "Salaire moyen dans le village 2 : 2000.0\n",
      "Salaire médian dans le village 2 : 100.0\n",
      "Le village 2 est hétérogène, une majorité de gens gagnent peu, et un petit groupe (ici 1 personne), gagne beaucoup\n",
      "La moyenne est élevée, mais pourtant 9 villageois sur 10, la majorité, gagne 10 fois moins que la moyenne\n",
      "Le salaire médian est plus représentatif, il montre que si on gagne 100, alors on gagne a peu près comme tout le monde,\n",
      "c'est à dire que la moitié des gens gagnent plus que nous, et l'autre moitié gagne moins.\n"
     ]
    }
   ],
   "source": [
    "salaires_village_1 = [800, 1200, 900, 1100, 850, 1150, 1000, 1000, 1050, 950]\n",
    "salaires_village_2 = [80, 120, 90, 110, 85, 115, 100, 100, 100, 19100]\n",
    "\n",
    "print('Salaire moyen dans le village 1 :', moyenne(salaires_village_1))\n",
    "print('Salaire médian dans le village 1 :', mediane(salaires_village_1))\n",
    "print(\"Le village 1 est homogène, ses salaires son égalitaires, car il y a peu d'écart entre les gens\")\n",
    "print('\\nSalaire moyen dans le village 2 :', moyenne(salaires_village_2))\n",
    "print('Salaire médian dans le village 2 :', mediane(salaires_village_2))\n",
    "print(\"Le village 2 est hétérogène, une majorité de gens gagnent peu, et un petit groupe (ici 1 personne), gagne beaucoup\")\n",
    "print(\"La moyenne est élevée, mais pourtant 9 villageois sur 10, la majorité, gagne 10 fois moins que la moyenne\")\n",
    "print(\"Le salaire médian est plus représentatif, il montre que si on gagne 100, alors on gagne a peu près comme tout le monde,\")\n",
    "print(\"c'est à dire que la moitié des gens gagnent plus que nous, et l'autre moitié gagne moins.\")\n"
   ]
  },
  {
   "cell_type": "markdown",
   "metadata": {},
   "source": [
    "Pour mieux se rendre compte des différences, on peut faire un __graphique__. \n",
    "Comme on va utiliser et créer plusieurs fois le même graphique, on crée une fonction"
   ]
  },
  {
   "cell_type": "code",
   "execution_count": 6,
   "metadata": {
    "collapsed": false
   },
   "outputs": [
    {
     "data": {
      "image/png": "[encoded data removed]",
      "text/plain": [
       "<matplotlib.figure.Figure at 0x27378d80128>"
      ]
     },
     "metadata": {},
     "output_type": "display_data"
    },
    {
     "data": {
      "image/png": "[encoded data removed]",
      "text/plain": [
       "<matplotlib.figure.Figure at 0x27378de25c0>"
      ]
     },
     "metadata": {},
     "output_type": "display_data"
    },
    {
     "data": {
      "image/png": "[encoded data removed]",
      "text/plain": [
       "<matplotlib.figure.Figure at 0x27378de27b8>"
      ]
     },
     "metadata": {},
     "output_type": "display_data"
    }
   ],
   "source": [
    "# Pour mieux se rendre compte des différences, on peut faire un graphique. \n",
    "# Comme on va utiliser et créer plusieurs fois le même graphique, on crée une fonction\n",
    "\n",
    "def affiche_graphique(titre, ensemble):\n",
    "    taille = len(ensemble)\n",
    "    #On peut appeler d'autres fonctions (moyenne, mediane) dans une fonction\n",
    "    moy = moyenne(ensemble)\n",
    "    med = mediane(ensemble)\n",
    "    \n",
    "    plt.plot(range(taille), ensemble, 'r--')\n",
    "    #plt.ylim(ymin=0, ymax=20)\n",
    "    plt.xlabel('Ensemble')\n",
    "    plt.ylabel('Valeurs')\n",
    "\n",
    "    moy_line = plt.plot(range(taille), np.full(taille,moyenne(ensemble)), label='Moyenne', linestyle='--')\n",
    "    med_line = plt.plot(range(taille), np.full(taille,mediane(ensemble)), label='Médiane', linestyle='--')\n",
    "    plt.legend(loc='best')\n",
    "    plt.title(titre)\n",
    "    plt.show()\n",
    "    \n",
    "affiche_graphique('Notes', notes)\n",
    "affiche_graphique('Village 1', salaires_village_1)\n",
    "affiche_graphique('Village 2', salaires_village_2)"
   ]
  },
  {
   "cell_type": "markdown",
   "metadata": {
    "collapsed": true
   },
   "source": [
    "### Quartile....\n",
    "On cherche le premier quartile tel que 25% des valeurs lui soient inférieures.  \n",
    "Puis on cherche le deuxième quartile tel que 50% des valeurs lui soient inférieures.  \n",
    "Finalement on cherche le troisième quartile tel que 75% des valeurs lui soient inférieures.\n",
    "\n",
    "Cela suffit pour séparer en 4 : 0-----1er quartile------deuxième quartile------- troisième quartile-----------max\n",
    "\n"
   ]
  },
  {
   "cell_type": "code",
   "execution_count": 32,
   "metadata": {
    "collapsed": false
   },
   "outputs": [
    {
     "name": "stdout",
     "output_type": "stream",
     "text": [
      "Ensemble à traiter : [1, 3, 4, 76, 43, 22, 45, 32, 12, 12, 12, 54, 54]\n",
      "Ensemble trié : [1, 3, 4, 12, 12, 12, 22, 32, 43, 45, 54, 54, 76]\n",
      "Quartile 1 : population 4, valeur : 12\n",
      "Quartile 2 : population 7, valeur : 22\n",
      "Quartile 3 : population 10, valeur : 45\n"
     ]
    }
   ],
   "source": [
    "import math\n",
    "def calcule_quartiles(ensemble):\n",
    "    ensemble_trie = sorted(ensemble)\n",
    "    taille = len(ensemble_trie)\n",
    "    quartile_1 = taille/4 # Le nombre obtenu peut-être un nombre à virgule\n",
    "    quartile_1 = math.ceil(quartile_1) # On arrondit à l'entier supérieur\n",
    "    quartile_2 = taille/2\n",
    "    quartile_2 = math.ceil(quartile_2) # On arrondit à l'entier supérieur\n",
    "    quartile_3 = (taille/4)*3\n",
    "    quartile_3 = math.ceil(quartile_3)\n",
    "    \n",
    "    # On renvoie les quartiles et leur valeur associée dans un tableau\n",
    "    # Comme les indices de tableau démarrent à zéro en python, on pense à retrancher 1.\n",
    "    quartiles = []\n",
    "    quartile = [quartile_1-1, ensemble_trie[quartile_1-1]]\n",
    "    quartiles.append(quartile)\n",
    "    quartile = [quartile_2-1, ensemble_trie[quartile_2-1]]\n",
    "    quartiles.append(quartile)\n",
    "    quartile = [quartile_3-1, ensemble_trie[quartile_3-1]]\n",
    "    quartiles.append(quartile)\n",
    "    \n",
    "    return ensemble_trie, quartiles\n",
    "\n",
    "def affiche_quartiles(ensemble):\n",
    "    ensemble_trie, quartiles = calcule_quartiles(ensemble)\n",
    "    # On affiche proprement ce qu'on a calculé\n",
    "    print('Ensemble à traiter :', ensemble)\n",
    "    print('Ensemble trié :', ensemble_trie)\n",
    "    for i in range(len(quartiles)):\n",
    "        population = quartiles[i][0]+1\n",
    "        print('Quartile {} : population {}, valeur : {}'.format(i+1, population, quartiles[i][1]))\n",
    "\n",
    "    return\n",
    "\n",
    "test = [1,3,4,76,43,22,45,32,12,12,12,54,54]\n",
    "affiche_quartiles(test)\n",
    "\n"
   ]
  },
  {
   "cell_type": "markdown",
   "metadata": {},
   "source": [
    "## Ensemble avec effectif.\n",
    "\n",
    "Souvent dans les exercices, on a un tableau avec deux lignes : effectifs et valeurs.  \n",
    "On va donc adapter les fonctions pour que cela puisse prendre ce type de tableau."
   ]
  },
  {
   "cell_type": "markdown",
   "metadata": {},
   "source": [
    "[http://www.maxicours.com/soutien-scolaire/mathematiques/1re-s/17751.html] (Exemple avec tableau des retards)"
   ]
  },
  {
   "cell_type": "code",
   "execution_count": 54,
   "metadata": {
    "collapsed": false
   },
   "outputs": [
    {
     "name": "stdout",
     "output_type": "stream",
     "text": [
      "\n",
      "------- Retard des trains --------\n",
      "** On remarque au passage qu'il y a une erreur sur le site (effectif faux...)\n",
      "Effectif total : 49\n",
      "Ensemble à traiter : [[10, 15], [20, 19], [40, 7], [50, 3], [60, 2], [70, 2], [180, 1]]\n",
      "Quartile 1 : population 13, valeur : 10\n",
      "Quartile 2 : population 25, valeur : 20\n",
      "Quartile 3 : population 37, valeur : 40\n",
      "\n",
      "------- Note de philo --------\n",
      "Effectif total : 68\n",
      "Ensemble à traiter : [[4, 1], [5, 1], [6, 7], [7, 3], [8, 10], [9, 12], [10, 8], [11, 2], [12, 6], [13, 6], [14, 6], [15, 3], [16, 2], [17, 0], [18, 1]]\n",
      "Quartile 1 : population 17, valeur : 8\n",
      "Quartile 2 : population 34, valeur : 10\n",
      "Quartile 3 : population 51, valeur : 13\n"
     ]
    }
   ],
   "source": [
    "import math\n",
    "### ATTENTION, ici on part du principe que l'ensemble qui est passé est déjà trié.\n",
    "def calcule_quartiles_effectifs(ensemble):\n",
    "    \n",
    "    # Déclaration d'une fonction dans la fonction :)\n",
    "    def trouve_valeur(ensemble, quartile):\n",
    "        eff = 0\n",
    "        for i in range(len(ensemble)):\n",
    "            if eff > quartile:\n",
    "                return ensemble[i-1][0]\n",
    "            eff = eff + ensemble[i][1]\n",
    "        return ensemble[i][0]\n",
    "    \n",
    "    effectif_total = 0\n",
    "    for i in range(len(ensemble)):\n",
    "        effectif_total = effectif_total + ensemble[i][1]  # 1 car les tableaux démarrent à 0, et la deuxième cellule représente l'effectif\n",
    "    print('Effectif total :', effectif_total)\n",
    "    quartile_1 = effectif_total/4 # Le nombre obtenu peut-être un nombre à virgule\n",
    "    quartile_1 = math.ceil(quartile_1) # On arrondit à l'entier supérieur\n",
    "    quartile_2 = effectif_total/2\n",
    "    quartile_2 = math.ceil(quartile_2) # On arrondit à l'entier supérieur\n",
    "    quartile_3 = (effectif_total/4)*3\n",
    "    quartile_3 = math.ceil(quartile_3)\n",
    "    \n",
    "    # ici pour calculer la valeur du quartile, il faut démarrer au début du tableau et\n",
    "    # ajouter les effectifs jusqu'à arriver à l'effectif du quartile\n",
    "    quartiles = []\n",
    "    effectif = trouve_valeur(ensemble, quartile_1)\n",
    "    quartile = [quartile_1-1, effectif]\n",
    "    quartiles.append(quartile)\n",
    "    quartile = [quartile_2-1, trouve_valeur(ensemble, quartile_2)]\n",
    "    quartiles.append(quartile)\n",
    "    quartile = [quartile_3-1, trouve_valeur(ensemble, quartile_3)]\n",
    "    quartiles.append(quartile)\n",
    "    \n",
    "    return quartiles\n",
    "\n",
    "def affiche_quartiles_effectifs(ensemble):\n",
    "    quartiles = calcule_quartiles_effectifs(ensemble)\n",
    "    # On affiche proprement ce qu'on a calculé\n",
    "    print('Ensemble à traiter :', ensemble)\n",
    "    for i in range(len(quartiles)):\n",
    "        population = quartiles[i][0]+1\n",
    "        print('Quartile {} : population {}, valeur : {}'.format(i+1, population, quartiles[i][1]))\n",
    "\n",
    "    return\n",
    " \n",
    "    \n",
    "print(\"\\n------- Retard des trains --------\")\n",
    "retards=[[10,15],[20,19],[40,7],[50,3],[60,2],[70,2],[180,1]] # 10 min de retard pour 15 trains, 20 min pour 19 train..\n",
    "print(\"** On remarque au passage qu'il y a une erreur sur le site (effectif faux...)\")\n",
    "affiche_quartiles_effectifs(retards)\n",
    "\n",
    "\n",
    "print(\"\\n------- Note de philo --------\")\n",
    "notes=[[4,1],[5,1],[6,7],[7,3],[8,10],[9,12],[10,8],[11,2],[12,6],[13,6],[14,6],[15,3],[16,2],[17,0],[18,1]] # 1 élève a eu 4, 8 ont eu 10 et 1 a eu 18, bravoà lui !\n",
    "affiche_quartiles_effectifs(notes)\n",
    "\n"
   ]
  },
  {
   "cell_type": "code",
   "execution_count": null,
   "metadata": {
    "collapsed": true
   },
   "outputs": [],
   "source": [
    "\n"
   ]
  }
 ],
 "metadata": {
  "kernelspec": {
   "display_name": "Python 3",
   "language": "python",
   "name": "python3"
  },
  "language_info": {
   "codemirror_mode": {
    "name": "ipython",
    "version": 3
   },
   "file_extension": ".py",
   "mimetype": "text/x-python",
   "name": "python",
   "nbconvert_exporter": "python",
   "pygments_lexer": "ipython3",
   "version": "3.5.1"
  }
 },
 "nbformat": 4,
 "nbformat_minor": 0
}
